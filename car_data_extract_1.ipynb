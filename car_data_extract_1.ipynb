{
 "cells": [
  {
   "cell_type": "code",
   "execution_count": null,
   "id": "3bbb57b8",
   "metadata": {},
   "outputs": [],
   "source": [
    "# Importing Libraries\n",
    "import selenium\n",
    "import pandas as pd\n",
    "import time\n",
    "from bs4 import BeautifulSoup\n",
    "\n",
    "# Importing selenium webdriver \n",
    "from selenium import webdriver\n",
    "\n",
    "# Importing required Exceptions which needs to handled\n",
    "from selenium.common.exceptions import StaleElementReferenceException, NoSuchElementException,ElementNotInteractableException\n",
    "\n",
    "#Importing requests\n",
    "import requests\n",
    "\n",
    "# importing regex\n",
    "import re"
   ]
  },
  {
   "cell_type": "code",
   "execution_count": null,
   "id": "741bd5fe",
   "metadata": {},
   "outputs": [],
   "source": [
    "#Activating the chrome browser\n",
    "driver=webdriver.Chrome(\"chromedriver.exe\")\n",
    "time.sleep(2)\n",
    "#opening the webpage\n",
    "url='www.carwale.com/used/cars-under-1-lakh/#sc=-1&so=-1&budget=1-6&city=243&pc=243&pn=2&lcr=24&ldr=0&lir=0'\n",
    "driver.get(url)\n",
    "time.sleep(2)"
   ]
  },
  {
   "cell_type": "code",
   "execution_count": null,
   "id": "7e71370d",
   "metadata": {},
   "outputs": [],
   "source": [
    "name1_0= driver.find_elements_by_xpath('//*[@id=\"linkToDetails\"]/span[2]')\n",
    "car_name1_0=[]\n",
    "for i in name1_0:\n",
    "    driver.execute_script(\"window.scrollTo(0, 200000000);\")\n",
    "    time.sleep(2)\n",
    "    car_name1_0.append(i.text)\n",
    "car_name1_0"
   ]
  },
  {
   "cell_type": "code",
   "execution_count": null,
   "id": "f8a64393",
   "metadata": {},
   "outputs": [],
   "source": [
    "len(car_name1_0)"
   ]
  },
  {
   "cell_type": "code",
   "execution_count": null,
   "id": "b13e4ac2",
   "metadata": {},
   "outputs": [],
   "source": [
    "name1_0= driver.find_elements_by_id(\"linkToDetails\")\n",
    "car_name1_0=[]\n",
    "for i in name1_0:\n",
    "    driver.execute_script(\"window.scrollTo(0, 200000000);\")\n",
    "    time.sleep(2)\n",
    "    car_name1_0.append(i.text)\n",
    "car_name1_0"
   ]
  },
  {
   "cell_type": "code",
   "execution_count": null,
   "id": "86a5a9cd",
   "metadata": {},
   "outputs": [],
   "source": [
    "len(car_name1_0)"
   ]
  },
  {
   "cell_type": "code",
   "execution_count": null,
   "id": "0fb76c4d",
   "metadata": {},
   "outputs": [],
   "source": [
    "year1= driver.find_elements_by_xpath('//*[@id=\"linkToDetails\"]/span[1]')\n",
    "year_make1=[]\n",
    "for i in year1:\n",
    "    driver.execute_script(\"window.scrollTo(0, 200000);\")\n",
    "    time.sleep(2)\n",
    "    year_make1.append(i.text)\n",
    "year_make1"
   ]
  },
  {
   "cell_type": "code",
   "execution_count": null,
   "id": "c79618d8",
   "metadata": {},
   "outputs": [],
   "source": [
    "name1_1= driver.find_elements_by_xpath('//*[@id=\"linkToDetails\"]/span')\n",
    "car_name1_1=[]\n",
    "for i in name1_1:\n",
    "    driver.execute_script(\"window.scrollTo(0, 200000000);\")\n",
    "    time.sleep(2)\n",
    "    car_name1_1.append(i.text)\n",
    "car_name1_1"
   ]
  },
  {
   "cell_type": "code",
   "execution_count": null,
   "id": "e62024e5",
   "metadata": {},
   "outputs": [],
   "source": [
    "len(year_make1)"
   ]
  },
  {
   "cell_type": "code",
   "execution_count": null,
   "id": "7b16fb10",
   "metadata": {},
   "outputs": [],
   "source": []
  },
  {
   "cell_type": "code",
   "execution_count": null,
   "id": "9559d2b4",
   "metadata": {},
   "outputs": [],
   "source": [
    "name1_2= driver.find_elements_by_xpath('//*[@id=\"linkToDetails\"]/span[2]')\n",
    "car_name1_2=[]\n",
    "for i in name1_2:\n",
    "    driver.execute_script(\"window.scrollTo(0, 200000000);\")\n",
    "    time.sleep(2)\n",
    "    car_name1_2.append(i.text)\n",
    "car_name1_2"
   ]
  },
  {
   "cell_type": "code",
   "execution_count": null,
   "id": "5ce0cfc5",
   "metadata": {},
   "outputs": [],
   "source": [
    "len(car_name1_2) "
   ]
  },
  {
   "cell_type": "code",
   "execution_count": null,
   "id": "709eeed0",
   "metadata": {},
   "outputs": [],
   "source": [
    "year1_2= driver.find_elements_by_xpath('//*[@id=\"linkToDetails\"]/span[1]')\n",
    "year_make1_2=[]\n",
    "for i in name1_2:\n",
    "    driver.execute_script(\"window.scrollTo(0, 200000000);\")\n",
    "    time.sleep(2)\n",
    "    year_make1_2.append(i.text)\n",
    "year_make1_2"
   ]
  },
  {
   "cell_type": "code",
   "execution_count": null,
   "id": "96076ff4",
   "metadata": {},
   "outputs": [],
   "source": [
    "len(year_make1_2)"
   ]
  },
  {
   "cell_type": "code",
   "execution_count": null,
   "id": "79c792c0",
   "metadata": {},
   "outputs": [],
   "source": [
    "price_1= driver.find_elements_by_xpath('//*[@id=\"listing2\"]/li/div/div[3]/div[1]/div[1]/a/table/tbody/tr[2]/td/div/a[1]/span/span')\n",
    "car_price_1=[]\n",
    "for i in price_1:\n",
    "    driver.execute_script(\"window.scrollTo(0, 200000);\")\n",
    "    time.sleep(2)\n",
    "    car_price_1.append(i.text)\n",
    "car_price_1"
   ]
  },
  {
   "cell_type": "code",
   "execution_count": null,
   "id": "6677eaad",
   "metadata": {},
   "outputs": [],
   "source": [
    "len(car_price_1)"
   ]
  },
  {
   "cell_type": "code",
   "execution_count": null,
   "id": "e1637ec7",
   "metadata": {},
   "outputs": [],
   "source": [
    "price_2= driver.find_elements_by_xpath('//*[@id=\"listing1\"]/li/div/div[3]/div[1]/div[1]/a/table/tbody/tr[2]/td/div/a[1]/span/span')\n",
    "car_price_2=[]\n",
    "for i in price_2:\n",
    "    driver.execute_script(\"window.scrollTo(0, 200000);\")\n",
    "    time.sleep(2)\n",
    "    car_price_2.append(i.text)\n",
    "car_price_2"
   ]
  },
  {
   "cell_type": "code",
   "execution_count": null,
   "id": "45c0e22b",
   "metadata": {},
   "outputs": [],
   "source": [
    "price_3= driver.find_elements_by_xpath('//*[@id=\"listing3\"]/li/div/div[3]/div[1]/div[1]/a/table/tbody/tr[2]/td/div/a[1]/span/span')\n",
    "car_price_3=[]\n",
    "for i in price_3:\n",
    "    driver.execute_script(\"window.scrollTo(0, 200000);\")\n",
    "    time.sleep(2)\n",
    "    car_price_3.append(i.text)\n",
    "car_price_3"
   ]
  },
  {
   "cell_type": "code",
   "execution_count": null,
   "id": "f642f67b",
   "metadata": {},
   "outputs": [],
   "source": [
    "price_4= driver.find_elements_by_xpath('//*[@id=\"listing4\"]/li/div/div[3]/div[1]/div[1]/a/table/tbody/tr[2]/td/div/a[1]/span/span')\n",
    "car_price_4=[]\n",
    "for i in price_4:\n",
    "    driver.execute_script(\"window.scrollTo(0, 200000);\")\n",
    "    time.sleep(2)\n",
    "    car_price_4.append(i.text)\n",
    "car_price_4"
   ]
  },
  {
   "cell_type": "code",
   "execution_count": null,
   "id": "71111788",
   "metadata": {},
   "outputs": [],
   "source": [
    "price_5= driver.find_elements_by_xpath('//*[@id=\"listing5\"]/li/div/div[3]/div[1]/div[1]/a/table/tbody/tr[2]/td/div/a[1]/span/span')\n",
    "car_price_5=[]\n",
    "for i in price_5:\n",
    "    driver.execute_script(\"window.scrollTo(0, 200000);\")\n",
    "    time.sleep(2)\n",
    "    car_price_5.append(i.text)\n",
    "car_price_5"
   ]
  },
  {
   "cell_type": "code",
   "execution_count": null,
   "id": "352283e8",
   "metadata": {},
   "outputs": [],
   "source": [
    "price_6= driver.find_elements_by_xpath('//*[@id=\"listing6\"]/li/div/div[3]/div[1]/div[1]/a/table/tbody/tr[2]/td/div/a[1]/span/span')\n",
    "car_price_6=[]\n",
    "for i in price_6:\n",
    "    driver.execute_script(\"window.scrollTo(0, 20000000);\")\n",
    "    time.sleep(2)\n",
    "    car_price_6.append(i.text)\n",
    "car_price_6"
   ]
  },
  {
   "cell_type": "code",
   "execution_count": null,
   "id": "7d2c5eb6",
   "metadata": {},
   "outputs": [],
   "source": [
    "price_7= driver.find_elements_by_xpath('//*[@id=\"listing7\"]/li/div/div[3]/div[1]/div[1]/a/table/tbody/tr[2]/td/div/a[1]/span/span')\n",
    "car_price_7=[]\n",
    "for i in price_7:\n",
    "    driver.execute_script(\"window.scrollTo(0, 2000000);\")\n",
    "    time.sleep(2)\n",
    "    car_price_7.append(i.text)\n",
    "car_price_7"
   ]
  },
  {
   "cell_type": "code",
   "execution_count": null,
   "id": "ba94d93f",
   "metadata": {},
   "outputs": [],
   "source": [
    "price_8= driver.find_elements_by_xpath('//*[@id=\"listing8\"]/li/div/div[3]/div[1]/div[1]/a/table/tbody/tr[2]/td/div/a[1]/span/span')\n",
    "car_price_8=[]\n",
    "for i in price_8:\n",
    "    driver.execute_script(\"window.scrollTo(0, 20000000);\")\n",
    "    time.sleep(2)\n",
    "    car_price_8.append(i.text)\n",
    "car_price_8"
   ]
  },
  {
   "cell_type": "code",
   "execution_count": null,
   "id": "1eb49193",
   "metadata": {},
   "outputs": [],
   "source": [
    "price_9= driver.find_elements_by_xpath('//*[@id=\"listing9\"]/li/div/div[3]/div[1]/div[1]/a/table/tbody/tr[2]/td/div/a[1]/span/span')\n",
    "car_price_9=[]\n",
    "for i in price_9:\n",
    "    driver.execute_script(\"window.scrollTo(0, 20000000);\")\n",
    "    time.sleep(2)\n",
    "    car_price_9.append(i.text)\n",
    "car_price_9"
   ]
  },
  {
   "cell_type": "code",
   "execution_count": null,
   "id": "7caefe99",
   "metadata": {},
   "outputs": [],
   "source": [
    "price_10= driver.find_elements_by_xpath('//*[@id=\"listing10\"]/li/div/div[3]/div[1]/div[1]/a/table/tbody/tr[2]/td/div/a[1]/span/span')\n",
    "car_price_10=[]\n",
    "for i in price_10:\n",
    "    driver.execute_script(\"window.scrollTo(0, 20000000);\")\n",
    "    time.sleep(2)\n",
    "    car_price_10.append(i.text)\n",
    "car_price_10"
   ]
  },
  {
   "cell_type": "code",
   "execution_count": null,
   "id": "824067b7",
   "metadata": {},
   "outputs": [],
   "source": [
    "Car_Price= car_price_10+car_price_9+car_price_8+car_price_7+car_price_6+car_price_5+car_price_4+car_price_3+car_price_2+car_price_1"
   ]
  },
  {
   "cell_type": "code",
   "execution_count": null,
   "id": "08cf2f27",
   "metadata": {},
   "outputs": [],
   "source": [
    "len(Car_Price)"
   ]
  },
  {
   "cell_type": "code",
   "execution_count": null,
   "id": "651a5a4f",
   "metadata": {},
   "outputs": [],
   "source": [
    "fuel1 = driver.find_elements_by_xpath('//*[@id=\"listing1\"]/li/div/div[3]/div[1]/div[1]/a/table/tbody/tr[3]/td[2]/span')\n",
    "fuel_type1=[]\n",
    "for f in fuel1:\n",
    "    fuel_type1.append(f.text)\n",
    "fuel_type1"
   ]
  },
  {
   "cell_type": "code",
   "execution_count": null,
   "id": "bf3b257d",
   "metadata": {},
   "outputs": [],
   "source": [
    "fuel2 = driver.find_elements_by_xpath('//*[@id=\"listing2\"]/li/div/div[3]/div[1]/div[1]/a/table/tbody/tr[3]/td[2]/span')\n",
    "fuel_type2=[]\n",
    "for f in fuel2:\n",
    "    fuel_type2.append(f.text)\n",
    "fuel_type2"
   ]
  },
  {
   "cell_type": "code",
   "execution_count": null,
   "id": "9d1b386a",
   "metadata": {},
   "outputs": [],
   "source": [
    "fuel3 = driver.find_elements_by_xpath('//*[@id=\"listing3\"]/li/div/div[3]/div[1]/div[1]/a/table/tbody/tr[3]/td[2]/span')\n",
    "fuel_type3=[]\n",
    "for f in fuel3:\n",
    "    fuel_type3.append(f.text)\n",
    "fuel_type3"
   ]
  },
  {
   "cell_type": "code",
   "execution_count": null,
   "id": "222de06b",
   "metadata": {},
   "outputs": [],
   "source": [
    "fuel4 = driver.find_elements_by_xpath('//*[@id=\"listing4\"]/li/div/div[3]/div[1]/div[1]/a/table/tbody/tr[3]/td[2]/span')\n",
    "fuel_type4=[]\n",
    "for f in fuel4:\n",
    "    fuel_type4.append(f.text)\n",
    "fuel_type4"
   ]
  },
  {
   "cell_type": "code",
   "execution_count": null,
   "id": "be5296b0",
   "metadata": {},
   "outputs": [],
   "source": [
    "fuel5 = driver.find_elements_by_xpath('//*[@id=\"listing5\"]/li/div/div[3]/div[1]/div[1]/a/table/tbody/tr[3]/td[2]/span')\n",
    "fuel_type5=[]\n",
    "for f in fuel5:\n",
    "    fuel_type5.append(f.text)\n",
    "fuel_type5"
   ]
  },
  {
   "cell_type": "code",
   "execution_count": null,
   "id": "27b83af9",
   "metadata": {},
   "outputs": [],
   "source": [
    "fuel6 = driver.find_elements_by_xpath('//*[@id=\"listing6\"]/li/div/div[3]/div[1]/div[1]/a/table/tbody/tr[3]/td[2]/span')\n",
    "fuel_type6=[]\n",
    "for f in fuel6:\n",
    "    driver.execute_script(\"window.scrollTo(0, 20000000);\")\n",
    "    time.sleep(2)\n",
    "    fuel_type6.append(f.text)\n",
    "fuel_type6"
   ]
  },
  {
   "cell_type": "code",
   "execution_count": null,
   "id": "41c48d64",
   "metadata": {},
   "outputs": [],
   "source": [
    "fuel7 = driver.find_elements_by_xpath('//*[@id=\"listing7\"]/li/div/div[3]/div[1]/div[1]/a/table/tbody/tr[3]/td[2]/span')\n",
    "fuel_type7=[]\n",
    "for f in fuel7:\n",
    "    fuel_type7.append(f.text)\n",
    "fuel_type7"
   ]
  },
  {
   "cell_type": "code",
   "execution_count": null,
   "id": "98073415",
   "metadata": {},
   "outputs": [],
   "source": [
    "fuel8 = driver.find_elements_by_xpath('//*[@id=\"listing8\"]/li/div/div[3]/div[1]/div[1]/a/table/tbody/tr[3]/td[2]/span')\n",
    "fuel_type8=[]\n",
    "for f in fuel8:\n",
    "    fuel_type8.append(f.text)\n",
    "fuel_type8"
   ]
  },
  {
   "cell_type": "code",
   "execution_count": null,
   "id": "484bec30",
   "metadata": {},
   "outputs": [],
   "source": [
    "fuel9 = driver.find_elements_by_xpath('//*[@id=\"listing9\"]/li/div/div[3]/div[1]/div[1]/a/table/tbody/tr[3]/td[2]/span')\n",
    "fuel_type9=[]\n",
    "for f in fuel9:\n",
    "    fuel_type9.append(f.text)\n",
    "fuel_type9"
   ]
  },
  {
   "cell_type": "code",
   "execution_count": null,
   "id": "af2fa7db",
   "metadata": {},
   "outputs": [],
   "source": [
    "fuel10 = driver.find_elements_by_xpath('//*[@id=\"listing10\"]/li/div/div[3]/div[1]/div[1]/a/table/tbody/tr[3]/td[2]/span')\n",
    "fuel_type10=[]\n",
    "for f in fuel10:\n",
    "    fuel_type10.append(f.text)\n",
    "fuel_type10"
   ]
  },
  {
   "cell_type": "code",
   "execution_count": null,
   "id": "0cfc889a",
   "metadata": {},
   "outputs": [],
   "source": [
    "Fuel_type= fuel_type10+ fuel_type9+fuel_type8+fuel_type7+fuel_type6+fuel_type5+fuel_type4+fuel_type2+fuel_type1+fuel_type3\n",
    "Fuel_type"
   ]
  },
  {
   "cell_type": "code",
   "execution_count": null,
   "id": "eaa7c376",
   "metadata": {},
   "outputs": [],
   "source": [
    "km1= driver.find_elements_by_xpath('//*[@id=\"listing1\"]/li/div/div[3]/div[1]/div[1]/a/table/tbody/tr[3]/td[1]/span')\n",
    "kms_covered1=[]\n",
    "for k in km1:\n",
    "    kms_covered1.append(k.text)\n",
    "kms_covered1"
   ]
  },
  {
   "cell_type": "code",
   "execution_count": null,
   "id": "86f41c01",
   "metadata": {},
   "outputs": [],
   "source": [
    "km2= driver.find_elements_by_xpath('//*[@id=\"listing2\"]/li/div/div[3]/div[1]/div[1]/a/table/tbody/tr[3]/td[1]/span')\n",
    "kms_covered2=[]\n",
    "for k in km2:\n",
    "    kms_covered2.append(k.text)\n",
    "kms_covered2"
   ]
  },
  {
   "cell_type": "code",
   "execution_count": null,
   "id": "36a15f81",
   "metadata": {},
   "outputs": [],
   "source": [
    "km3= driver.find_elements_by_xpath('//*[@id=\"listing3\"]/li/div/div[3]/div[1]/div[1]/a/table/tbody/tr[3]/td[1]/span')\n",
    "kms_covered3=[]\n",
    "for k in km3:\n",
    "    kms_covered3.append(k.text)\n",
    "kms_covered3"
   ]
  },
  {
   "cell_type": "code",
   "execution_count": null,
   "id": "7a661d3f",
   "metadata": {},
   "outputs": [],
   "source": [
    "km4= driver.find_elements_by_xpath('//*[@id=\"listing4\"]/li/div/div[3]/div[1]/div[1]/a/table/tbody/tr[3]/td[1]/span')\n",
    "kms_covered4=[]\n",
    "for k in km4:\n",
    "    kms_covered4.append(k.text)\n",
    "kms_covered4"
   ]
  },
  {
   "cell_type": "code",
   "execution_count": null,
   "id": "a58c1107",
   "metadata": {},
   "outputs": [],
   "source": [
    "km5= driver.find_elements_by_xpath('//*[@id=\"listing5\"]/li/div/div[3]/div[1]/div[1]/a/table/tbody/tr[3]/td[1]/span')\n",
    "kms_covered5=[]\n",
    "for k in km5:\n",
    "    kms_covered5.append(k.text)\n",
    "kms_covered5"
   ]
  },
  {
   "cell_type": "code",
   "execution_count": null,
   "id": "ecc5e4f9",
   "metadata": {},
   "outputs": [],
   "source": [
    "km6= driver.find_elements_by_xpath('//*[@id=\"listing6\"]/li/div/div[3]/div[1]/div[1]/a/table/tbody/tr[3]/td[1]/span')\n",
    "kms_covered6=[]\n",
    "for k in km6:\n",
    "    kms_covered6.append(k.text)\n",
    "kms_covered6"
   ]
  },
  {
   "cell_type": "code",
   "execution_count": null,
   "id": "4263c80f",
   "metadata": {},
   "outputs": [],
   "source": [
    "km7= driver.find_elements_by_xpath('//*[@id=\"listing7\"]/li/div/div[3]/div[1]/div[1]/a/table/tbody/tr[3]/td[1]/span')\n",
    "kms_covered7=[]\n",
    "for k in km7:\n",
    "    kms_covered7.append(k.text)\n",
    "kms_covered7"
   ]
  },
  {
   "cell_type": "code",
   "execution_count": null,
   "id": "da4140f8",
   "metadata": {},
   "outputs": [],
   "source": [
    "km8= driver.find_elements_by_xpath('//*[@id=\"listing8\"]/li/div/div[3]/div[1]/div[1]/a/table/tbody/tr[3]/td[1]/span')\n",
    "kms_covered8=[]\n",
    "for k in km8:\n",
    "    kms_covered8.append(k.text)\n",
    "kms_covered8"
   ]
  },
  {
   "cell_type": "code",
   "execution_count": null,
   "id": "d57b213e",
   "metadata": {},
   "outputs": [],
   "source": [
    "km9= driver.find_elements_by_xpath('//*[@id=\"listing9\"]/li/div/div[3]/div[1]/div[1]/a/table/tbody/tr[3]/td[1]/span')\n",
    "kms_covered9=[]\n",
    "for k in km2:\n",
    "    kms_covered9.append(k.text)\n",
    "kms_covered9"
   ]
  },
  {
   "cell_type": "code",
   "execution_count": null,
   "id": "7040cfeb",
   "metadata": {},
   "outputs": [],
   "source": [
    "km10= driver.find_elements_by_xpath('//*[@id=\"listing10\"]/li/div/div[3]/div[1]/div[1]/a/table/tbody/tr[3]/td[1]/span')\n",
    "kms_covered10=[]\n",
    "for k in km10:\n",
    "    kms_covered10.append(k.text)\n",
    "kms_covered10"
   ]
  },
  {
   "cell_type": "code",
   "execution_count": null,
   "id": "4f085950",
   "metadata": {},
   "outputs": [],
   "source": [
    "distance_covered= kms_covered10+kms_covered9+kms_covered8+kms_covered7+kms_covered6+kms_covered5+kms_covered4+kms_covered3+kms_covered2+kms_covered1\n",
    "distance_covered"
   ]
  },
  {
   "cell_type": "code",
   "execution_count": null,
   "id": "28843ebb",
   "metadata": {},
   "outputs": [],
   "source": [
    "area1= driver.find_elements_by_xpath('//*[@id=\"listing1\"]/li/div/div[3]/div[1]/div[1]/a/table/tbody/tr[3]/td[3]/span')\n",
    "city1=[]\n",
    "for a in area1:\n",
    "    city1.append(a.text)\n",
    "city1"
   ]
  },
  {
   "cell_type": "code",
   "execution_count": null,
   "id": "6fe2127b",
   "metadata": {},
   "outputs": [],
   "source": [
    "area2= driver.find_elements_by_xpath('//*[@id=\"listing2\"]/li/div/div[3]/div[1]/div[1]/a/table/tbody/tr[3]/td[3]/span')\n",
    "city2=[]\n",
    "for a in area2:\n",
    "    city2.append(a.text)\n",
    "city2"
   ]
  },
  {
   "cell_type": "code",
   "execution_count": null,
   "id": "c87d616a",
   "metadata": {},
   "outputs": [],
   "source": [
    "area3= driver.find_elements_by_xpath('//*[@id=\"listing3\"]/li/div/div[3]/div[1]/div[1]/a/table/tbody/tr[3]/td[3]/span')\n",
    "city3=[]\n",
    "for a in area3:\n",
    "    city3.append(a.text)\n",
    "city3"
   ]
  },
  {
   "cell_type": "code",
   "execution_count": null,
   "id": "57238889",
   "metadata": {},
   "outputs": [],
   "source": [
    "area4= driver.find_elements_by_xpath('//*[@id=\"listing4\"]/li/div/div[3]/div[1]/div[1]/a/table/tbody/tr[3]/td[3]/span')\n",
    "city4=[]\n",
    "for a in area4:\n",
    "    city4.append(a.text)\n",
    "city4"
   ]
  },
  {
   "cell_type": "code",
   "execution_count": null,
   "id": "cfb8135a",
   "metadata": {},
   "outputs": [],
   "source": [
    "area5= driver.find_elements_by_xpath('//*[@id=\"listing5\"]/li/div/div[3]/div[1]/div[1]/a/table/tbody/tr[3]/td[3]/span')\n",
    "city5=[]\n",
    "for a in area5:\n",
    "    city5.append(a.text)\n",
    "city5"
   ]
  },
  {
   "cell_type": "code",
   "execution_count": null,
   "id": "ac02cb9c",
   "metadata": {},
   "outputs": [],
   "source": [
    "area6= driver.find_elements_by_xpath('//*[@id=\"listing6\"]/li/div/div[3]/div[1]/div[1]/a/table/tbody/tr[3]/td[3]/span')\n",
    "city6=[]\n",
    "for a in area6:\n",
    "    city6.append(a.text)\n",
    "city6"
   ]
  },
  {
   "cell_type": "code",
   "execution_count": null,
   "id": "3f517b25",
   "metadata": {},
   "outputs": [],
   "source": [
    "area7= driver.find_elements_by_xpath('//*[@id=\"listing7\"]/li/div/div[3]/div[1]/div[1]/a/table/tbody/tr[3]/td[3]/span')\n",
    "city7=[]\n",
    "for a in area7:\n",
    "    city7.append(a.text)\n",
    "city7"
   ]
  },
  {
   "cell_type": "code",
   "execution_count": null,
   "id": "48bd1f2d",
   "metadata": {},
   "outputs": [],
   "source": [
    "area8= driver.find_elements_by_xpath('//*[@id=\"listing8\"]/li/div/div[3]/div[1]/div[1]/a/table/tbody/tr[3]/td[3]/span')\n",
    "city8=[]\n",
    "for a in area8:\n",
    "    city8.append(a.text)\n",
    "city8"
   ]
  },
  {
   "cell_type": "code",
   "execution_count": null,
   "id": "28383741",
   "metadata": {},
   "outputs": [],
   "source": [
    "area9= driver.find_elements_by_xpath('//*[@id=\"listing9\"]/li/div/div[3]/div[1]/div[1]/a/table/tbody/tr[3]/td[3]/span')\n",
    "city9=[]\n",
    "for a in area9:\n",
    "    city9.append(a.text)\n",
    "city9"
   ]
  },
  {
   "cell_type": "code",
   "execution_count": null,
   "id": "5429289f",
   "metadata": {},
   "outputs": [],
   "source": [
    "area10= driver.find_elements_by_xpath('//*[@id=\"listing10\"]/li/div/div[3]/div[1]/div[1]/a/table/tbody/tr[3]/td[3]/span')\n",
    "city10=[]\n",
    "for a in area10:\n",
    "    city10.append(a.text)\n",
    "city10"
   ]
  },
  {
   "cell_type": "code",
   "execution_count": null,
   "id": "c1fa98d9",
   "metadata": {},
   "outputs": [],
   "source": [
    "City= city10+city9+city8+city7+city5+city6+city4+city3+city2+city1\n",
    "City"
   ]
  },
  {
   "cell_type": "code",
   "execution_count": null,
   "id": "cf1af406",
   "metadata": {},
   "outputs": [],
   "source": [
    "len(City)"
   ]
  },
  {
   "cell_type": "code",
   "execution_count": null,
   "id": "2eed906c",
   "metadata": {},
   "outputs": [],
   "source": [
    "cars= pd.DataFrame()\n",
    "cars['Car_Price']= Car_Price[0:185]\n",
    "cars['Car_name']= car_name1_2[0:185]\n",
    "cars['City']= City[0:185]\n",
    "cars['Car_year']=year_make1[0:185]\n",
    "cars['Distance_travelled']= distance_covered[0:185]\n",
    "cars['Fuel']=Fuel_type[0:185]\n",
    "cars"
   ]
  },
  {
   "cell_type": "code",
   "execution_count": null,
   "id": "3364a1e6",
   "metadata": {},
   "outputs": [],
   "source": [
    "cars.to_csv('cars14.csv',index=False)"
   ]
  },
  {
   "cell_type": "code",
   "execution_count": null,
   "id": "bcce6cc1",
   "metadata": {},
   "outputs": [],
   "source": [
    "cars['Car_year']=year_make1[0:126]\n",
    "new = cars['Year'].str.split(\" \", n = 1, expand = True)\n",
    "cars[\"\"]= new[0]\n",
    "cars[\"Last Name\"]= new[1]\n",
    "cars.drop([\"Last Name\",\"Year\"],axis=1, inplace= True)\n",
    "cars[\"Car_year\"]"
   ]
  }
 ],
 "metadata": {
  "kernelspec": {
   "display_name": "Python 3",
   "language": "python",
   "name": "python3"
  },
  "language_info": {
   "codemirror_mode": {
    "name": "ipython",
    "version": 3
   },
   "file_extension": ".py",
   "mimetype": "text/x-python",
   "name": "python",
   "nbconvert_exporter": "python",
   "pygments_lexer": "ipython3",
   "version": "3.8.8"
  }
 },
 "nbformat": 4,
 "nbformat_minor": 5
}
